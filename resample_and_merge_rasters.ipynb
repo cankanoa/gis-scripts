{
 "cells": [
  {
   "cell_type": "code",
   "execution_count": 3,
   "id": "4532d74c-0be7-4a03-840c-4794bbc3af55",
   "metadata": {},
   "outputs": [
    {
     "name": "stderr",
     "output_type": "stream",
     "text": [
      "Warning 1: output.tif: Unable to export GeoTIFF file with different datatypes per different bands. All bands should have the same types in TIFF.\n"
     ]
    },
    {
     "name": "stdout",
     "output_type": "stream",
     "text": [
      "Merged output saved to: /mnt/f/KanoasWork/merge/output.tif\n",
      "Number of bands in the merged output: 9\n"
     ]
    }
   ],
   "source": [
    "import os\n",
    "from osgeo import gdal, osr\n",
    "\n",
    "# Define working directory\n",
    "working_dir = \"/mnt/f/KanoasWork/merge\"\n",
    "\n",
    "# Paths to the input files and the output files\n",
    "chm_file = os.path.join(working_dir, \"chm.tif\")\n",
    "mul_file = os.path.join(working_dir, \"mul.tif\")\n",
    "chm_aligned = os.path.join(working_dir, \"chm_aligned_clip.tif\")\n",
    "mul_aligned = os.path.join(working_dir, \"mul_aligned.tif\")\n",
    "output_file = os.path.join(working_dir, \"output.tif\")\n",
    "\n",
    "# Resample function\n",
    "def resample_raster(input_raster, output_raster, target_epsg, resample_factor=0.5):\n",
    "    # Open input raster\n",
    "    input_ds = gdal.Open(input_raster)\n",
    "    if input_ds is None:\n",
    "        raise FileNotFoundError(f\"Failed to open raster: {input_raster}\")\n",
    "    \n",
    "    # Get geotransform and projection of the input raster\n",
    "    input_geotransform = input_ds.GetGeoTransform()\n",
    "    cols = input_ds.RasterXSize\n",
    "    rows = input_ds.RasterYSize\n",
    "    \n",
    "    # Create a spatial reference object for the target EPSG\n",
    "    target_srs = osr.SpatialReference()\n",
    "    target_srs.ImportFromEPSG(target_epsg)\n",
    "    \n",
    "    # Calculate bounds manually\n",
    "    min_x = input_geotransform[0]\n",
    "    max_y = input_geotransform[3]\n",
    "    max_x = min_x + input_geotransform[1] * cols\n",
    "    min_y = max_y + input_geotransform[5] * rows\n",
    "    \n",
    "    # Resample and reproject using gdal.Warp\n",
    "    gdal.Warp(output_raster, input_ds, \n",
    "              format='GTiff',\n",
    "              dstSRS=target_srs.ExportToWkt(),\n",
    "              xRes=resample_factor,\n",
    "              yRes=resample_factor,\n",
    "              outputBounds=(min_x, min_y, max_x, max_y),\n",
    "              resampleAlg=gdal.GRA_NearestNeighbour,\n",
    "              targetAlignedPixels=True)\n",
    "    print(f'Resampled and saved: {output_raster}')\n",
    "    input_ds = None  # Close dataset\n",
    "\n",
    "# Run resampling for both input rasters\n",
    "target_epsg = 32605  # Replace with the desired EPSG code\n",
    "# resample_raster(chm_file, chm_aligned, target_epsg)\n",
    "# resample_raster(mul_file, mul_aligned, target_epsg)\n",
    "\n",
    "# Merge function\n",
    "def merge_rasters(raster1, raster2, output_raster):\n",
    "    # Create a temporary VRT file to stack bands\n",
    "    vrt_path = os.path.splitext(output_raster)[0] + \".vrt\"\n",
    "    \n",
    "    # Use BuildVRT to stack raster bands separately\n",
    "    vrt_options = gdal.BuildVRTOptions(separate=True)\n",
    "    gdal.BuildVRT(vrt_path, [raster1, raster2], options=vrt_options)\n",
    "    \n",
    "    # Translate the VRT to a single output file in GeoTIFF format\n",
    "    translate_options = gdal.TranslateOptions(format='GTiff', noData=-9999)\n",
    "    gdal.Translate(output_raster, vrt_path, options=translate_options)\n",
    "    \n",
    "    # Clean up the VRT file\n",
    "    os.remove(vrt_path)\n",
    "\n",
    "# Merge the resampled rasters\n",
    "merge_rasters(mul_aligned, chm_aligned, output_file)\n",
    "\n",
    "# Check band count of the final output\n",
    "merged_ds = gdal.Open(output_file)\n",
    "if merged_ds:\n",
    "    print(f\"Merged output saved to: {output_file}\")\n",
    "    print(\"Number of bands in the merged output:\", merged_ds.RasterCount)\n",
    "    merged_ds = None  # Close dataset\n",
    "else:\n",
    "    print(\"Failed to create merged output.\")\n"
   ]
  },
  {
   "cell_type": "code",
   "execution_count": null,
   "id": "ecf88bb6-a02a-4389-8203-fc34ba1be9d5",
   "metadata": {},
   "outputs": [],
   "source": []
  }
 ],
 "metadata": {
  "kernelspec": {
   "display_name": "wslCondaEnv",
   "language": "python",
   "name": "wslcondaenv"
  },
  "language_info": {
   "codemirror_mode": {
    "name": "ipython",
    "version": 3
   },
   "file_extension": ".py",
   "mimetype": "text/x-python",
   "name": "python",
   "nbconvert_exporter": "python",
   "pygments_lexer": "ipython3",
   "version": "3.12.6"
  }
 },
 "nbformat": 4,
 "nbformat_minor": 5
}
